{
 "cells": [
  {
   "cell_type": "code",
   "execution_count": 3,
   "metadata": {},
   "outputs": [],
   "source": [
    "from bs4 import BeautifulSoup \n",
    "import requests"
   ]
  },
  {
   "cell_type": "code",
   "execution_count": 172,
   "metadata": {},
   "outputs": [
    {
     "name": "stdout",
     "output_type": "stream",
     "text": [
      "1\n",
      "2\n",
      "3\n",
      "4\n",
      "5\n",
      "6\n",
      "7\n",
      "8\n",
      "9\n"
     ]
    }
   ],
   "source": [
    "filename=\"phones.csv\"\n",
    "f=open(filename, \"w\", encoding=\"utf-8\")\n",
    "f.write(\"{},{},{},{},{},{},{},{},{},{},{},{}\\n\".format(\"Title\",\"Rating\",\"Memory\",\"Disply\",\"Camera\",\"Processor\",\"Warranty\",\"Selling_price\",\"actual_price\",\"discount\",\"emi\",\"exchange_price\"))   \n",
    "for i in range(1,10):\n",
    "    print(i)\n",
    "    result = requests.get(\"https://www.flipkart.com/search?q=iphone&sid=tyy%2C4io&as=on&as-show=on&otracker=AS_QueryStore_OrganicAutoSuggest_1_6_na_na_na&otracker1=AS_QueryStore_OrganicAutoSuggest_1_6_na_na_na&as-pos=1&as-type=RECENT&suggestionId=iphone%7CMobiles&requestId=8fb64068-6b71-4031-bb69-b16ed1e2baaf&as-searchtext=iphone&page={}\".format(i))\n",
    "    soup = BeautifulSoup(result.text, \"html.parser\")\n",
    "    layout=soup.find('div',class_=\"_1HmYoV hCUpcT\")\n",
    "    template=layout.find_all('div',class_='bhgxx2 col-12-12')\n",
    "    for temp in template:\n",
    "        if temp.find_all(\"div\", class_= \"_3O0U0u\"):\n",
    "            phone=temp.find('div',class_='_3O0U0u')\n",
    "            if phone.find_all(\"div\", class_= \"_1-2Iqu row\"):\n",
    "                phone_1=phone.find('div',class_='_1-2Iqu row')\n",
    "                title=phone_1.find('div',class_='_3wU53n').text.strip().replace(',','|')\n",
    "                rating=phone_1.find('div',class_='hGSR34').text.strip().replace(',','|')\n",
    "                li=phone_1.find_all('li',class_='tVe95H')\n",
    "                memory=li[0].text.strip().replace(',','').replace(\"|\",\"\")\n",
    "                disply=li[1].text.strip().replace(',','|')\n",
    "                front_camera=li[2].text.strip().replace(',','|')\n",
    "                processor=li[3].text.strip().replace(',','|')\n",
    "                warranty=li[-1].text.strip().replace(',','|')\n",
    "                selling_price=phone_1.find('div',class_='_1vC4OE _2rQ-NK').text.strip().replace(',','')\n",
    "                if phone.find_all(\"div\", class_= \"_3auQ3N _2GcJzG\"):\n",
    "                    actual_price=phone_1.find('div',class_='_3auQ3N _2GcJzG').text.strip().replace(',','')\n",
    "                else:\n",
    "                    actual_price=selling_price\n",
    "                if phone.find_all(\"div\", class_= \"VGWI6T\"):    \n",
    "                    discount=phone_1.find('div',class_='VGWI6T').span.text.strip().replace(',','|')\n",
    "                else:\n",
    "                    discount=0\n",
    "                exchange_info=phone_1.find_all('div',class_='_3_G5Wj')\n",
    "                if len(exchange_info)>0:\n",
    "                    emi=exchange_info[0].text.strip().replace(',','|')\n",
    "                else:\n",
    "                    emi=0\n",
    "                if len(exchange_info)>2: \n",
    "                    exchange_price=exchange_info[2].text.strip().replace(',','')\n",
    "                else:\n",
    "                    exchange_price=0                \n",
    "                #csv=title+\",\"+str(rating)+\",\"+memory+\",\"+disply+\",\"+front_camera+\",\"+processor+\",\"+warranty+\",\"+selling_price+\",\"+actual_price+\",\"+discount+\",\"+emi+\",\"+exchange_price\n",
    "                csv=\"{},{},{},{},{},{},{},{},{},{},{},{}\\n\".format(title,rating,memory,disply,front_camera,processor,warranty,selling_price,actual_price,discount,emi,exchange_price)\n",
    "                f.write(csv)\n",
    "f.close()     \n"
   ]
  },
  {
   "cell_type": "code",
   "execution_count": null,
   "metadata": {},
   "outputs": [],
   "source": []
  }
 ],
 "metadata": {
  "kernelspec": {
   "display_name": "Python 3",
   "language": "python",
   "name": "python3"
  },
  "language_info": {
   "codemirror_mode": {
    "name": "ipython",
    "version": 3
   },
   "file_extension": ".py",
   "mimetype": "text/x-python",
   "name": "python",
   "nbconvert_exporter": "python",
   "pygments_lexer": "ipython3",
   "version": "3.7.3"
  }
 },
 "nbformat": 4,
 "nbformat_minor": 2
}
